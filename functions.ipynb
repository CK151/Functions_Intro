{
 "cells": [
  {
   "cell_type": "markdown",
   "id": "2c434ee9",
   "metadata": {},
   "source": [
    "Functions"
   ]
  },
  {
   "cell_type": "code",
   "execution_count": 28,
   "id": "c9a2ae5c",
   "metadata": {},
   "outputs": [],
   "source": [
    "def say_hello():\n",
    "    '''\n",
    "    Just saying hello\n",
    "    '''\n",
    "    print(\"Hello\")"
   ]
  },
  {
   "cell_type": "code",
   "execution_count": 29,
   "id": "db523ad0",
   "metadata": {},
   "outputs": [
    {
     "name": "stdout",
     "output_type": "stream",
     "text": [
      "Hello\n"
     ]
    }
   ],
   "source": [
    "say_hello()"
   ]
  },
  {
   "cell_type": "code",
   "execution_count": 30,
   "id": "4de40252",
   "metadata": {},
   "outputs": [],
   "source": [
    "def say_hello(name):\n",
    "    '''\n",
    "    Just saying hello\n",
    "    '''\n",
    "    print(\"Hello\" + \" \" + name)"
   ]
  },
  {
   "cell_type": "code",
   "execution_count": 32,
   "id": "ecb5fbe0",
   "metadata": {},
   "outputs": [
    {
     "name": "stdout",
     "output_type": "stream",
     "text": [
      "Hello Anderson\n"
     ]
    }
   ],
   "source": [
    "say_hello(\"Anderson\")"
   ]
  },
  {
   "cell_type": "code",
   "execution_count": 33,
   "id": "3283b3c8",
   "metadata": {},
   "outputs": [],
   "source": [
    "def add_num(num1, num2):\n",
    "    return num1 + num2"
   ]
  },
  {
   "cell_type": "code",
   "execution_count": 39,
   "id": "da0f5c63",
   "metadata": {},
   "outputs": [
    {
     "data": {
      "text/plain": [
       "10"
      ]
     },
     "execution_count": 39,
     "metadata": {},
     "output_type": "execute_result"
    }
   ],
   "source": [
    "add_num(2 + 4, 4)"
   ]
  },
  {
   "cell_type": "code",
   "execution_count": 35,
   "id": "24336fba",
   "metadata": {},
   "outputs": [],
   "source": [
    "answer = add_num(12, 24)"
   ]
  },
  {
   "cell_type": "code",
   "execution_count": 36,
   "id": "2825b9c0",
   "metadata": {},
   "outputs": [
    {
     "data": {
      "text/plain": [
       "36"
      ]
     },
     "execution_count": 36,
     "metadata": {},
     "output_type": "execute_result"
    }
   ],
   "source": [
    "answer"
   ]
  },
  {
   "cell_type": "code",
   "execution_count": null,
   "id": "a324d631",
   "metadata": {},
   "outputs": [],
   "source": []
  }
 ],
 "metadata": {
  "kernelspec": {
   "display_name": "Python 3 (ipykernel)",
   "language": "python",
   "name": "python3"
  },
  "language_info": {
   "codemirror_mode": {
    "name": "ipython",
    "version": 3
   },
   "file_extension": ".py",
   "mimetype": "text/x-python",
   "name": "python",
   "nbconvert_exporter": "python",
   "pygments_lexer": "ipython3",
   "version": "3.9.7"
  }
 },
 "nbformat": 4,
 "nbformat_minor": 5
}
